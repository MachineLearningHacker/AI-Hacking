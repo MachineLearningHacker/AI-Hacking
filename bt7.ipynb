{
  "nbformat": 4,
  "nbformat_minor": 0,
  "metadata": {
    "colab": {
      "name": "bt9.ipynb",
      "version": "0.3.2",
      "provenance": [],
      "include_colab_link": true
    },
    "kernelspec": {
      "name": "python3",
      "display_name": "Python 3"
    },
    "accelerator": "GPU"
  },
  "cells": [
    {
      "cell_type": "markdown",
      "metadata": {
        "id": "view-in-github",
        "colab_type": "text"
      },
      "source": [
        "<a href=\"https://colab.research.google.com/github/MachineLearningHacker/AI-Hacking/blob/master/bt7.ipynb\" target=\"_parent\"><img src=\"https://colab.research.google.com/assets/colab-badge.svg\" alt=\"Open In Colab\"/></a>"
      ]
    },
    {
      "metadata": {
        "id": "lFOHBBy32YEq",
        "colab_type": "code",
        "outputId": "8e04e4ab-2e23-4334-f082-ff2644892eec",
        "colab": {
          "base_uri": "https://localhost:8080/",
          "height": 121
        }
      },
      "cell_type": "code",
      "source": [
        "!git clone https://github.com/MachineLearningHacker/Dataset_Kaggle.git"
      ],
      "execution_count": 1,
      "outputs": [
        {
          "output_type": "stream",
          "text": [
            "Cloning into 'Dataset_Kaggle'...\n",
            "remote: Enumerating objects: 4012, done.\u001b[K\n",
            "remote: Counting objects:   0% (1/4012)   \u001b[K\rremote: Counting objects:   1% (41/4012)   \u001b[K\rremote: Counting objects:   2% (81/4012)   \u001b[K\rremote: Counting objects:   3% (121/4012)   \u001b[K\rremote: Counting objects:   4% (161/4012)   \u001b[K\rremote: Counting objects:   5% (201/4012)   \u001b[K\rremote: Counting objects:   6% (241/4012)   \u001b[K\rremote: Counting objects:   7% (281/4012)   \u001b[K\rremote: Counting objects:   8% (321/4012)   \u001b[K\rremote: Counting objects:   9% (362/4012)   \u001b[K\rremote: Counting objects:  10% (402/4012)   \u001b[K\rremote: Counting objects:  11% (442/4012)   \u001b[K\rremote: Counting objects:  12% (482/4012)   \u001b[K\rremote: Counting objects:  13% (522/4012)   \u001b[K\rremote: Counting objects:  14% (562/4012)   \u001b[K\rremote: Counting objects:  15% (602/4012)   \u001b[K\rremote: Counting objects:  16% (642/4012)   \u001b[K\rremote: Counting objects:  17% (683/4012)   \u001b[K\rremote: Counting objects:  18% (723/4012)   \u001b[K\rremote: Counting objects:  19% (763/4012)   \u001b[K\rremote: Counting objects:  20% (803/4012)   \u001b[K\rremote: Counting objects:  21% (843/4012)   \u001b[K\rremote: Counting objects:  22% (883/4012)   \u001b[K\rremote: Counting objects:  23% (923/4012)   \u001b[K\rremote: Counting objects:  24% (963/4012)   \u001b[K\rremote: Counting objects:  25% (1003/4012)   \u001b[K\rremote: Counting objects:  26% (1044/4012)   \u001b[K\rremote: Counting objects:  27% (1084/4012)   \u001b[K\rremote: Counting objects:  28% (1124/4012)   \u001b[K\rremote: Counting objects:  29% (1164/4012)   \u001b[K\rremote: Counting objects:  30% (1204/4012)   \u001b[K\rremote: Counting objects:  31% (1244/4012)   \u001b[K\rremote: Counting objects:  32% (1284/4012)   \u001b[K\rremote: Counting objects:  33% (1324/4012)   \u001b[K\rremote: Counting objects:  34% (1365/4012)   \u001b[K\rremote: Counting objects:  35% (1405/4012)   \u001b[K\rremote: Counting objects:  36% (1445/4012)   \u001b[K\rremote: Counting objects:  37% (1485/4012)   \u001b[K\rremote: Counting objects:  38% (1525/4012)   \u001b[K\rremote: Counting objects:  39% (1565/4012)   \u001b[K\rremote: Counting objects:  40% (1605/4012)   \u001b[K\rremote: Counting objects:  41% (1645/4012)   \u001b[K\rremote: Counting objects:  42% (1686/4012)   \u001b[K\rremote: Counting objects:  43% (1726/4012)   \u001b[K\rremote: Counting objects:  44% (1766/4012)   \u001b[K\rremote: Counting objects:  45% (1806/4012)   \u001b[K\rremote: Counting objects:  46% (1846/4012)   \u001b[K\rremote: Counting objects:  47% (1886/4012)   \u001b[K\rremote: Counting objects:  48% (1926/4012)   \u001b[K\rremote: Counting objects:  49% (1966/4012)   \u001b[K\rremote: Counting objects:  50% (2006/4012)   \u001b[K\rremote: Counting objects:  51% (2047/4012)   \u001b[K\rremote: Counting objects:  52% (2087/4012)   \u001b[K\rremote: Counting objects:  53% (2127/4012)   \u001b[K\rremote: Counting objects:  54% (2167/4012)   \u001b[K\rremote: Counting objects:  55% (2207/4012)   \u001b[K\rremote: Counting objects:  56% (2247/4012)   \u001b[K\rremote: Counting objects:  57% (2287/4012)   \u001b[K\rremote: Counting objects:  58% (2327/4012)   \u001b[K\rremote: Counting objects:  59% (2368/4012)   \u001b[K\rremote: Counting objects:  60% (2408/4012)   \u001b[K\rremote: Counting objects:  61% (2448/4012)   \u001b[K\rremote: Counting objects:  62% (2488/4012)   \u001b[K\rremote: Counting objects:  63% (2528/4012)   \u001b[K\rremote: Counting objects:  64% (2568/4012)   \u001b[K\rremote: Counting objects:  65% (2608/4012)   \u001b[K\rremote: Counting objects:  66% (2648/4012)   \u001b[K\rremote: Counting objects:  67% (2689/4012)   \u001b[K\rremote: Counting objects:  68% (2729/4012)   \u001b[K\rremote: Counting objects:  69% (2769/4012)   \u001b[K\rremote: Counting objects:  70% (2809/4012)   \u001b[K\rremote: Counting objects:  71% (2849/4012)   \u001b[K\rremote: Counting objects:  72% (2889/4012)   \u001b[K\rremote: Counting objects:  73% (2929/4012)   \u001b[K\rremote: Counting objects:  74% (2969/4012)   \u001b[K\rremote: Counting objects:  75% (3009/4012)   \u001b[K\rremote: Counting objects:  76% (3050/4012)   \u001b[K\rremote: Counting objects:  77% (3090/4012)   \u001b[K\rremote: Counting objects:  78% (3130/4012)   \u001b[K\rremote: Counting objects:  79% (3170/4012)   \u001b[K\rremote: Counting objects:  80% (3210/4012)   \u001b[K\rremote: Counting objects:  81% (3250/4012)   \u001b[K\rremote: Counting objects:  82% (3290/4012)   \u001b[K\rremote: Counting objects:  83% (3330/4012)   \u001b[K\rremote: Counting objects:  84% (3371/4012)   \u001b[K\rremote: Counting objects:  85% (3411/4012)   \u001b[K\rremote: Counting objects:  86% (3451/4012)   \u001b[K\rremote: Counting objects:  87% (3491/4012)   \u001b[K\rremote: Counting objects:  88% (3531/4012)   \u001b[K\rremote: Counting objects:  89% (3571/4012)   \u001b[K\rremote: Counting objects:  90% (3611/4012)   \u001b[K\rremote: Counting objects:  91% (3651/4012)   \u001b[K\rremote: Counting objects:  92% (3692/4012)   \u001b[K\rremote: Counting objects:  93% (3732/4012)   \u001b[K\rremote: Counting objects:  94% (3772/4012)   \u001b[K\rremote: Counting objects:  95% (3812/4012)   \u001b[K\rremote: Counting objects:  96% (3852/4012)   \u001b[K\rremote: Counting objects:  97% (3892/4012)   \u001b[K\rremote: Counting objects:  98% (3932/4012)   \u001b[K\rremote: Counting objects:  99% (3972/4012)   \u001b[K\rremote: Counting objects: 100% (4012/4012)   \u001b[K\rremote: Counting objects: 100% (4012/4012), done.\u001b[K\n",
            "remote: Compressing objects: 100% (4012/4012), done.\u001b[K\n",
            "remote: Total 4012 (delta 0), reused 4012 (delta 0), pack-reused 0\u001b[K\n",
            "Receiving objects: 100% (4012/4012), 86.08 MiB | 50.11 MiB/s, done.\n"
          ],
          "name": "stdout"
        }
      ]
    },
    {
      "metadata": {
        "id": "NJ0C5Fzx2kVE",
        "colab_type": "code",
        "colab": {}
      },
      "cell_type": "code",
      "source": [
        ""
      ],
      "execution_count": 0,
      "outputs": []
    },
    {
      "metadata": {
        "id": "dlAEevk_s6M1",
        "colab_type": "code",
        "colab": {}
      },
      "cell_type": "code",
      "source": [
        ""
      ],
      "execution_count": 0,
      "outputs": []
    }
  ]
}